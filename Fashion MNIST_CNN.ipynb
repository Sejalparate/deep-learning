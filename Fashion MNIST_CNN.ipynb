{
 "cells": [
  {
   "cell_type": "code",
   "execution_count": 1,
   "id": "d13cbf48",
   "metadata": {},
   "outputs": [],
   "source": [
    "import numpy as np\n",
    "import matplotlib.pyplot as plt\n",
    "import tensorflow as tf\n",
    "from tensorflow.keras.layers import Input, Dense, Dropout, Conv2D, Flatten\n",
    "from tensorflow.keras.models import Model"
   ]
  },
  {
   "cell_type": "code",
   "execution_count": 2,
   "id": "53c2028c",
   "metadata": {},
   "outputs": [],
   "source": [
    "# Load the data\n",
    "fashion_mnist = tf.keras.datasets.fashion_mnist\n",
    "\n",
    "(X_train, Y_train), (X_test, Y_test) = fashion_mnist.load_data()\n",
    "X_train, X_test = X_train / 255.0, X_test / 255.0"
   ]
  },
  {
   "cell_type": "code",
   "execution_count": 3,
   "id": "e09400ae",
   "metadata": {},
   "outputs": [
    {
     "data": {
      "text/plain": [
       "(60000, 28, 28)"
      ]
     },
     "execution_count": 3,
     "metadata": {},
     "output_type": "execute_result"
    }
   ],
   "source": [
    "X_train.shape"
   ]
  },
  {
   "cell_type": "code",
   "execution_count": 4,
   "id": "fcedd010",
   "metadata": {},
   "outputs": [
    {
     "data": {
      "text/plain": [
       "(60000, 28, 28, 1)"
      ]
     },
     "execution_count": 4,
     "metadata": {},
     "output_type": "execute_result"
    }
   ],
   "source": [
    "# Data is only 2D, so reshape\n",
    "X_train = np.expand_dims(X_train, -1)\n",
    "X_test = np.expand_dims(X_test, -1)\n",
    "\n",
    "X_train.shape"
   ]
  },
  {
   "cell_type": "code",
   "execution_count": 5,
   "id": "6b826458",
   "metadata": {},
   "outputs": [
    {
     "data": {
      "text/plain": [
       "10"
      ]
     },
     "execution_count": 5,
     "metadata": {},
     "output_type": "execute_result"
    }
   ],
   "source": [
    "k = len(set(Y_train))\n",
    "k"
   ]
  },
  {
   "cell_type": "code",
   "execution_count": 7,
   "id": "fe09f03f",
   "metadata": {},
   "outputs": [],
   "source": [
    "# Build the model using functional API\n",
    "\n",
    "i = Input(shape = X_train[0].shape)\n",
    "x = Conv2D(32, (3, 3), strides = 2, activation = 'relu')(i)\n",
    "x = Conv2D(64, (3, 3), strides = 2, activation = 'relu')(x)\n",
    "x = Conv2D(128, (3, 3), strides = 2, activation = 'relu')(x)\n",
    "\n",
    "x = Flatten()(x)\n",
    "x = Dropout(0.2)(x)\n",
    "x = Dense(512, activation = 'relu')(x)\n",
    "x = Dropout(0.2)(x)\n",
    "x = Dense(k, activation = 'softmax')(x)"
   ]
  },
  {
   "cell_type": "code",
   "execution_count": 8,
   "id": "0a376456",
   "metadata": {},
   "outputs": [],
   "source": [
    "model = Model(i, x)"
   ]
  },
  {
   "cell_type": "code",
   "execution_count": 9,
   "id": "bb4d86c0",
   "metadata": {},
   "outputs": [],
   "source": [
    "# Compile\n",
    "model.compile(optimizer = 'adam', loss = 'sparse_categorical_crossentropy', metrics = ['accuracy'])"
   ]
  },
  {
   "cell_type": "code",
   "execution_count": 10,
   "id": "fb3227ce",
   "metadata": {},
   "outputs": [
    {
     "name": "stdout",
     "output_type": "stream",
     "text": [
      "Epoch 1/15\n",
      "1875/1875 [==============================] - 19s 10ms/step - loss: 0.5204 - accuracy: 0.8054 - val_loss: 0.4066 - val_accuracy: 0.8488\n",
      "Epoch 2/15\n",
      "1875/1875 [==============================] - 29s 15ms/step - loss: 0.3616 - accuracy: 0.8659 - val_loss: 0.3437 - val_accuracy: 0.8757\n",
      "Epoch 3/15\n",
      "1875/1875 [==============================] - 28s 15ms/step - loss: 0.3105 - accuracy: 0.8816 - val_loss: 0.3212 - val_accuracy: 0.8775\n",
      "Epoch 4/15\n",
      "1875/1875 [==============================] - 25s 14ms/step - loss: 0.2787 - accuracy: 0.8952 - val_loss: 0.3057 - val_accuracy: 0.8870\n",
      "Epoch 5/15\n",
      "1875/1875 [==============================] - 26s 14ms/step - loss: 0.2507 - accuracy: 0.9054 - val_loss: 0.3020 - val_accuracy: 0.8918\n",
      "Epoch 6/15\n",
      "1875/1875 [==============================] - 26s 14ms/step - loss: 0.2329 - accuracy: 0.9111 - val_loss: 0.3017 - val_accuracy: 0.8925\n",
      "Epoch 7/15\n",
      "1875/1875 [==============================] - 26s 14ms/step - loss: 0.2132 - accuracy: 0.9183 - val_loss: 0.3021 - val_accuracy: 0.8921\n",
      "Epoch 8/15\n",
      "1875/1875 [==============================] - 28s 15ms/step - loss: 0.1963 - accuracy: 0.9248 - val_loss: 0.3031 - val_accuracy: 0.8962\n",
      "Epoch 9/15\n",
      "1875/1875 [==============================] - 27s 14ms/step - loss: 0.1852 - accuracy: 0.9298 - val_loss: 0.3149 - val_accuracy: 0.8938\n",
      "Epoch 10/15\n",
      "1875/1875 [==============================] - 30s 16ms/step - loss: 0.1687 - accuracy: 0.9344 - val_loss: 0.3309 - val_accuracy: 0.8967\n",
      "Epoch 11/15\n",
      "1875/1875 [==============================] - 30s 16ms/step - loss: 0.1600 - accuracy: 0.9387 - val_loss: 0.3122 - val_accuracy: 0.8995\n",
      "Epoch 12/15\n",
      "1875/1875 [==============================] - 30s 16ms/step - loss: 0.1502 - accuracy: 0.9420 - val_loss: 0.3292 - val_accuracy: 0.8962\n",
      "Epoch 13/15\n",
      "1875/1875 [==============================] - 29s 16ms/step - loss: 0.1429 - accuracy: 0.9444 - val_loss: 0.3307 - val_accuracy: 0.8960\n",
      "Epoch 14/15\n",
      "1875/1875 [==============================] - 26s 14ms/step - loss: 0.1366 - accuracy: 0.9482 - val_loss: 0.3404 - val_accuracy: 0.9008\n",
      "Epoch 15/15\n",
      "1875/1875 [==============================] - 27s 14ms/step - loss: 0.1256 - accuracy: 0.9521 - val_loss: 0.3705 - val_accuracy: 0.8978\n"
     ]
    }
   ],
   "source": [
    "# Fit\n",
    "r = model.fit(X_train, Y_train, validation_data = (X_test, Y_test), epochs = 15)"
   ]
  },
  {
   "cell_type": "code",
   "execution_count": 13,
   "id": "44227166",
   "metadata": {},
   "outputs": [
    {
     "data": {
      "image/png": "[encoded data removed]",
      "text/plain": [
       "<Figure size 432x288 with 1 Axes>"
      ]
     },
     "metadata": {
      "needs_background": "light"
     },
     "output_type": "display_data"
    }
   ],
   "source": [
    "# Plot loss per iteration\n",
    "\n",
    "plt.plot(r.history['loss'], label = 'loss')\n",
    "plt.plot(r.history['val_loss'], label = 'val_loss')\n",
    "plt.legend();"
   ]
  },
  {
   "cell_type": "code",
   "execution_count": 14,
   "id": "db152f5b",
   "metadata": {},
   "outputs": [
    {
     "data": {
      "image/png": "[encoded data removed]",
      "text/plain": [
       "<Figure size 432x288 with 1 Axes>"
      ]
     },
     "metadata": {
      "needs_background": "light"
     },
     "output_type": "display_data"
    }
   ],
   "source": [
    "# Plot accuracy per iteration\n",
    "\n",
    "plt.plot(r.history['accuracy'], label = 'accuracy')\n",
    "plt.plot(r.history['val_accuracy'], label = 'val_accuracy')\n",
    "plt.legend();"
   ]
  },
  {
   "cell_type": "code",
   "execution_count": null,
   "id": "995d11f9",
   "metadata": {},
   "outputs": [],
   "source": []
  }
 ],
 "metadata": {
  "kernelspec": {
   "display_name": "Python 3 (ipykernel)",
   "language": "python",
   "name": "python3"
  },
  "language_info": {
   "codemirror_mode": {
    "name": "ipython",
    "version": 3
   },
   "file_extension": ".py",
   "mimetype": "text/x-python",
   "name": "python",
   "nbconvert_exporter": "python",
   "pygments_lexer": "ipython3",
   "version": "3.9.12"
  }
 },
 "nbformat": 4,
 "nbformat_minor": 5
}
