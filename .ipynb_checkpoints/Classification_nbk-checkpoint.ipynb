{
 "cells": [
  {
   "cell_type": "code",
   "execution_count": 1,
   "id": "1f170e02",
   "metadata": {},
   "outputs": [],
   "source": [
    "import tensorflow as tf"
   ]
  },
  {
   "cell_type": "code",
   "execution_count": 2,
   "id": "8fad9954",
   "metadata": {},
   "outputs": [],
   "source": [
    "from sklearn.datasets import load_breast_cancer"
   ]
  },
  {
   "cell_type": "code",
   "execution_count": 3,
   "id": "8143d36f",
   "metadata": {},
   "outputs": [],
   "source": [
    "# Load data\n",
    "data = load_breast_cancer()"
   ]
  },
  {
   "cell_type": "code",
   "execution_count": 4,
   "id": "e3520d59",
   "metadata": {},
   "outputs": [
    {
     "data": {
      "text/plain": [
       "sklearn.utils.Bunch"
      ]
     },
     "execution_count": 4,
     "metadata": {},
     "output_type": "execute_result"
    }
   ],
   "source": [
    "type(data)"
   ]
  },
  {
   "cell_type": "code",
   "execution_count": 5,
   "id": "24111bf6",
   "metadata": {},
   "outputs": [
    {
     "data": {
      "text/plain": [
       "dict_keys(['data', 'target', 'frame', 'target_names', 'DESCR', 'feature_names', 'filename', 'data_module'])"
      ]
     },
     "execution_count": 5,
     "metadata": {},
     "output_type": "execute_result"
    }
   ],
   "source": [
    "data.keys()"
   ]
  },
  {
   "cell_type": "code",
   "execution_count": 6,
   "id": "acadea5c",
   "metadata": {},
   "outputs": [
    {
     "data": {
      "text/plain": [
       "(569, 30)"
      ]
     },
     "execution_count": 6,
     "metadata": {},
     "output_type": "execute_result"
    }
   ],
   "source": [
    "data.data.shape\n",
    "# (N,D) -> (no.of samples, no. of features)"
   ]
  },
  {
   "cell_type": "code",
   "execution_count": 7,
   "id": "8ed54f92",
   "metadata": {},
   "outputs": [
    {
     "data": {
      "text/plain": [
       "array(['malignant', 'benign'], dtype='<U9')"
      ]
     },
     "execution_count": 7,
     "metadata": {},
     "output_type": "execute_result"
    }
   ],
   "source": [
    "data.target_names"
   ]
  },
  {
   "cell_type": "code",
   "execution_count": 8,
   "id": "14d692f7",
   "metadata": {},
   "outputs": [
    {
     "data": {
      "text/plain": [
       "array([0, 0, 0, 0, 0, 0, 0, 0, 0, 0, 0, 0, 0, 0, 0, 0, 0, 0, 0, 1, 1, 1,\n",
       "       0, 0, 0, 0, 0, 0, 0, 0, 0, 0, 0, 0, 0, 0, 0, 1, 0, 0, 0, 0, 0, 0,\n",
       "       0, 0, 1, 0, 1, 1, 1, 1, 1, 0, 0, 1, 0, 0, 1, 1, 1, 1, 0, 1, 0, 0,\n",
       "       1, 1, 1, 1, 0, 1, 0, 0, 1, 0, 1, 0, 0, 1, 1, 1, 0, 0, 1, 0, 0, 0,\n",
       "       1, 1, 1, 0, 1, 1, 0, 0, 1, 1, 1, 0, 0, 1, 1, 1, 1, 0, 1, 1, 0, 1,\n",
       "       1, 1, 1, 1, 1, 1, 1, 0, 0, 0, 1, 0, 0, 1, 1, 1, 0, 0, 1, 0, 1, 0,\n",
       "       0, 1, 0, 0, 1, 1, 0, 1, 1, 0, 1, 1, 1, 1, 0, 1, 1, 1, 1, 1, 1, 1,\n",
       "       1, 1, 0, 1, 1, 1, 1, 0, 0, 1, 0, 1, 1, 0, 0, 1, 1, 0, 0, 1, 1, 1,\n",
       "       1, 0, 1, 1, 0, 0, 0, 1, 0, 1, 0, 1, 1, 1, 0, 1, 1, 0, 0, 1, 0, 0,\n",
       "       0, 0, 1, 0, 0, 0, 1, 0, 1, 0, 1, 1, 0, 1, 0, 0, 0, 0, 1, 1, 0, 0,\n",
       "       1, 1, 1, 0, 1, 1, 1, 1, 1, 0, 0, 1, 1, 0, 1, 1, 0, 0, 1, 0, 1, 1,\n",
       "       1, 1, 0, 1, 1, 1, 1, 1, 0, 1, 0, 0, 0, 0, 0, 0, 0, 0, 0, 0, 0, 0,\n",
       "       0, 0, 1, 1, 1, 1, 1, 1, 0, 1, 0, 1, 1, 0, 1, 1, 0, 1, 0, 0, 1, 1,\n",
       "       1, 1, 1, 1, 1, 1, 1, 1, 1, 1, 1, 0, 1, 1, 0, 1, 0, 1, 1, 1, 1, 1,\n",
       "       1, 1, 1, 1, 1, 1, 1, 1, 1, 0, 1, 1, 1, 0, 1, 0, 1, 1, 1, 1, 0, 0,\n",
       "       0, 1, 1, 1, 1, 0, 1, 0, 1, 0, 1, 1, 1, 0, 1, 1, 1, 1, 1, 1, 1, 0,\n",
       "       0, 0, 1, 1, 1, 1, 1, 1, 1, 1, 1, 1, 1, 0, 0, 1, 0, 0, 0, 1, 0, 0,\n",
       "       1, 1, 1, 1, 1, 0, 1, 1, 1, 1, 1, 0, 1, 1, 1, 0, 1, 1, 0, 0, 1, 1,\n",
       "       1, 1, 1, 1, 0, 1, 1, 1, 1, 1, 1, 1, 0, 1, 1, 1, 1, 1, 0, 1, 1, 0,\n",
       "       1, 1, 1, 1, 1, 1, 1, 1, 1, 1, 1, 1, 0, 1, 0, 0, 1, 0, 1, 1, 1, 1,\n",
       "       1, 0, 1, 1, 0, 1, 0, 1, 1, 0, 1, 0, 1, 1, 1, 1, 1, 1, 1, 1, 0, 0,\n",
       "       1, 1, 1, 1, 1, 1, 0, 1, 1, 1, 1, 1, 1, 1, 1, 1, 1, 0, 1, 1, 1, 1,\n",
       "       1, 1, 1, 0, 1, 0, 1, 1, 0, 1, 1, 1, 1, 1, 0, 0, 1, 0, 1, 0, 1, 1,\n",
       "       1, 1, 1, 0, 1, 1, 0, 1, 0, 1, 0, 0, 1, 1, 1, 0, 1, 1, 1, 1, 1, 1,\n",
       "       1, 1, 1, 1, 1, 0, 1, 0, 0, 1, 1, 1, 1, 1, 1, 1, 1, 1, 1, 1, 1, 1,\n",
       "       1, 1, 1, 1, 1, 1, 1, 1, 1, 1, 1, 1, 0, 0, 0, 0, 0, 0, 1])"
      ]
     },
     "execution_count": 8,
     "metadata": {},
     "output_type": "execute_result"
    }
   ],
   "source": [
    "data.target"
   ]
  },
  {
   "cell_type": "code",
   "execution_count": 9,
   "id": "780d5845",
   "metadata": {},
   "outputs": [
    {
     "data": {
      "text/plain": [
       "array(['mean radius', 'mean texture', 'mean perimeter', 'mean area',\n",
       "       'mean smoothness', 'mean compactness', 'mean concavity',\n",
       "       'mean concave points', 'mean symmetry', 'mean fractal dimension',\n",
       "       'radius error', 'texture error', 'perimeter error', 'area error',\n",
       "       'smoothness error', 'compactness error', 'concavity error',\n",
       "       'concave points error', 'symmetry error',\n",
       "       'fractal dimension error', 'worst radius', 'worst texture',\n",
       "       'worst perimeter', 'worst area', 'worst smoothness',\n",
       "       'worst compactness', 'worst concavity', 'worst concave points',\n",
       "       'worst symmetry', 'worst fractal dimension'], dtype='<U23')"
      ]
     },
     "execution_count": 9,
     "metadata": {},
     "output_type": "execute_result"
    }
   ],
   "source": [
    "data.feature_names"
   ]
  },
  {
   "cell_type": "code",
   "execution_count": 10,
   "id": "2f68b104",
   "metadata": {},
   "outputs": [],
   "source": [
    "from sklearn.model_selection import train_test_split\n",
    "\n",
    "X_train, X_test, Y_train, Y_test = train_test_split (data.data, data.target, test_size=0.5)"
   ]
  },
  {
   "cell_type": "code",
   "execution_count": 11,
   "id": "974e31b5",
   "metadata": {},
   "outputs": [
    {
     "data": {
      "text/plain": [
       "(284, 30)"
      ]
     },
     "execution_count": 11,
     "metadata": {},
     "output_type": "execute_result"
    }
   ],
   "source": [
    "N, D = X_train.shape\n",
    "N, D"
   ]
  },
  {
   "cell_type": "code",
   "execution_count": 12,
   "id": "d3aa2810",
   "metadata": {},
   "outputs": [],
   "source": [
    "from sklearn.preprocessing import StandardScaler # Performs Standardization: mean = 0, variance = 1\n",
    "\n",
    "scaler = StandardScaler()\n",
    "# Calculates the mean and SD of each feature in the training data and then performs the scaling operation\n",
    "X_train = scaler.fit_transform(X_train) \n",
    "X_test = scaler.transform(X_test)"
   ]
  },
  {
   "cell_type": "code",
   "execution_count": 13,
   "id": "2b8aafdb",
   "metadata": {},
   "outputs": [],
   "source": [
    "# Sequential models are linear stacks of layers, where each layer has a single input tensor and produces a single output tensor\n",
    "model = tf.keras.models.Sequential()\n",
    "\n",
    "'''\n",
    "A dense layer is a fully connected layer where each neuron is connected to every neuron in the previous layer\n",
    "Arguments passed:\n",
    "1: No. of neurons in the layer\n",
    "input_shape=(D,): layer expects an input of shape (D,)\n",
    "activation='sigmoid': squashes the output between 0 and 1, which is commonly used for binary classification tasks\n",
    "'''\n",
    "\n",
    "model.add(tf.keras.layers.Dense (1, input_shape = (D,), activation = 'sigmoid'))"
   ]
  },
  {
   "cell_type": "code",
   "execution_count": 14,
   "id": "928e6258",
   "metadata": {},
   "outputs": [],
   "source": [
    "#Alternative\n",
    "# model = tf.keras.models.Sequential ([tf.keras.layers.Input(shape = (D,)), \n",
    "#                                      tf.keras.layers.Dense(1, activation = 'sigmoid')])"
   ]
  },
  {
   "cell_type": "code",
   "execution_count": 15,
   "id": "028dcde2",
   "metadata": {},
   "outputs": [],
   "source": [
    "'''\n",
    "optimizer: specifies the optimization algorithm that will be used to update the weights of the neural network during training\n",
    "binary_crossentropy: This function calculates the cross-entropy loss between the true labels and the predicted probabilities\n",
    "metrics: provide additional information about the model's performance, but they do not impact the training process\n",
    "'''\n",
    "model.compile (optimizer = 'adam', loss = 'binary_crossentropy', metrics = 'accuracy')"
   ]
  },
  {
   "cell_type": "code",
   "execution_count": 16,
   "id": "cda58a02",
   "metadata": {},
   "outputs": [
    {
     "name": "stdout",
     "output_type": "stream",
     "text": [
      "Epoch 1/100\n",
      "9/9 [==============================] - 2s 56ms/step - loss: 0.4695 - accuracy: 0.7887 - val_loss: 0.5284 - val_accuracy: 0.7579\n",
      "Epoch 2/100\n",
      "9/9 [==============================] - 0s 12ms/step - loss: 0.4372 - accuracy: 0.8169 - val_loss: 0.4961 - val_accuracy: 0.7860\n",
      "Epoch 3/100\n",
      "9/9 [==============================] - 0s 12ms/step - loss: 0.4086 - accuracy: 0.8345 - val_loss: 0.4675 - val_accuracy: 0.8316\n",
      "Epoch 4/100\n",
      "9/9 [==============================] - 0s 12ms/step - loss: 0.3837 - accuracy: 0.8451 - val_loss: 0.4427 - val_accuracy: 0.8421\n",
      "Epoch 5/100\n",
      "9/9 [==============================] - 0s 12ms/step - loss: 0.3615 - accuracy: 0.8521 - val_loss: 0.4205 - val_accuracy: 0.8491\n",
      "Epoch 6/100\n",
      "9/9 [==============================] - 0s 12ms/step - loss: 0.3425 - accuracy: 0.8662 - val_loss: 0.4012 - val_accuracy: 0.8526\n",
      "Epoch 7/100\n",
      "9/9 [==============================] - 0s 12ms/step - loss: 0.3254 - accuracy: 0.8768 - val_loss: 0.3837 - val_accuracy: 0.8561\n",
      "Epoch 8/100\n",
      "9/9 [==============================] - 0s 11ms/step - loss: 0.3101 - accuracy: 0.8908 - val_loss: 0.3685 - val_accuracy: 0.8561\n",
      "Epoch 9/100\n",
      "9/9 [==============================] - 0s 8ms/step - loss: 0.2972 - accuracy: 0.9014 - val_loss: 0.3541 - val_accuracy: 0.8667\n",
      "Epoch 10/100\n",
      "9/9 [==============================] - 0s 11ms/step - loss: 0.2846 - accuracy: 0.9049 - val_loss: 0.3414 - val_accuracy: 0.8807\n",
      "Epoch 11/100\n",
      "9/9 [==============================] - 0s 9ms/step - loss: 0.2737 - accuracy: 0.9085 - val_loss: 0.3296 - val_accuracy: 0.8912\n",
      "Epoch 12/100\n",
      "9/9 [==============================] - 0s 11ms/step - loss: 0.2636 - accuracy: 0.9085 - val_loss: 0.3187 - val_accuracy: 0.8947\n",
      "Epoch 13/100\n",
      "9/9 [==============================] - 0s 11ms/step - loss: 0.2543 - accuracy: 0.9120 - val_loss: 0.3088 - val_accuracy: 0.8947\n",
      "Epoch 14/100\n",
      "9/9 [==============================] - 0s 10ms/step - loss: 0.2458 - accuracy: 0.9120 - val_loss: 0.2994 - val_accuracy: 0.8982\n",
      "Epoch 15/100\n",
      "9/9 [==============================] - 0s 11ms/step - loss: 0.2380 - accuracy: 0.9120 - val_loss: 0.2907 - val_accuracy: 0.8982\n",
      "Epoch 16/100\n",
      "9/9 [==============================] - 0s 13ms/step - loss: 0.2307 - accuracy: 0.9120 - val_loss: 0.2826 - val_accuracy: 0.8982\n",
      "Epoch 17/100\n",
      "9/9 [==============================] - 0s 11ms/step - loss: 0.2238 - accuracy: 0.9155 - val_loss: 0.2752 - val_accuracy: 0.9018\n",
      "Epoch 18/100\n",
      "9/9 [==============================] - 0s 11ms/step - loss: 0.2174 - accuracy: 0.9190 - val_loss: 0.2681 - val_accuracy: 0.9018\n",
      "Epoch 19/100\n",
      "9/9 [==============================] - 0s 12ms/step - loss: 0.2115 - accuracy: 0.9261 - val_loss: 0.2616 - val_accuracy: 0.9018\n",
      "Epoch 20/100\n",
      "9/9 [==============================] - 0s 12ms/step - loss: 0.2059 - accuracy: 0.9261 - val_loss: 0.2554 - val_accuracy: 0.9053\n",
      "Epoch 21/100\n",
      "9/9 [==============================] - 0s 12ms/step - loss: 0.2006 - accuracy: 0.9261 - val_loss: 0.2496 - val_accuracy: 0.9088\n",
      "Epoch 22/100\n",
      "9/9 [==============================] - 0s 12ms/step - loss: 0.1958 - accuracy: 0.9296 - val_loss: 0.2442 - val_accuracy: 0.9158\n",
      "Epoch 23/100\n",
      "9/9 [==============================] - 0s 12ms/step - loss: 0.1911 - accuracy: 0.9296 - val_loss: 0.2389 - val_accuracy: 0.9158\n",
      "Epoch 24/100\n",
      "9/9 [==============================] - 0s 12ms/step - loss: 0.1868 - accuracy: 0.9296 - val_loss: 0.2339 - val_accuracy: 0.9193\n",
      "Epoch 25/100\n",
      "9/9 [==============================] - 0s 12ms/step - loss: 0.1825 - accuracy: 0.9366 - val_loss: 0.2292 - val_accuracy: 0.9228\n",
      "Epoch 26/100\n",
      "9/9 [==============================] - 0s 11ms/step - loss: 0.1785 - accuracy: 0.9366 - val_loss: 0.2248 - val_accuracy: 0.9228\n",
      "Epoch 27/100\n",
      "9/9 [==============================] - 0s 12ms/step - loss: 0.1749 - accuracy: 0.9366 - val_loss: 0.2204 - val_accuracy: 0.9263\n",
      "Epoch 28/100\n",
      "9/9 [==============================] - 0s 12ms/step - loss: 0.1714 - accuracy: 0.9401 - val_loss: 0.2163 - val_accuracy: 0.9263\n",
      "Epoch 29/100\n",
      "9/9 [==============================] - 0s 12ms/step - loss: 0.1679 - accuracy: 0.9401 - val_loss: 0.2125 - val_accuracy: 0.9333\n",
      "Epoch 30/100\n",
      "9/9 [==============================] - 0s 12ms/step - loss: 0.1646 - accuracy: 0.9401 - val_loss: 0.2090 - val_accuracy: 0.9368\n",
      "Epoch 31/100\n",
      "9/9 [==============================] - 0s 12ms/step - loss: 0.1615 - accuracy: 0.9401 - val_loss: 0.2055 - val_accuracy: 0.9368\n",
      "Epoch 32/100\n",
      "9/9 [==============================] - 0s 12ms/step - loss: 0.1586 - accuracy: 0.9401 - val_loss: 0.2022 - val_accuracy: 0.9439\n",
      "Epoch 33/100\n",
      "9/9 [==============================] - 0s 12ms/step - loss: 0.1558 - accuracy: 0.9472 - val_loss: 0.1989 - val_accuracy: 0.9439\n",
      "Epoch 34/100\n",
      "9/9 [==============================] - 0s 12ms/step - loss: 0.1531 - accuracy: 0.9472 - val_loss: 0.1959 - val_accuracy: 0.9439\n",
      "Epoch 35/100\n",
      "9/9 [==============================] - 0s 12ms/step - loss: 0.1505 - accuracy: 0.9472 - val_loss: 0.1930 - val_accuracy: 0.9439\n",
      "Epoch 36/100\n",
      "9/9 [==============================] - 0s 12ms/step - loss: 0.1481 - accuracy: 0.9472 - val_loss: 0.1902 - val_accuracy: 0.9439\n",
      "Epoch 37/100\n",
      "9/9 [==============================] - 0s 12ms/step - loss: 0.1456 - accuracy: 0.9507 - val_loss: 0.1875 - val_accuracy: 0.9474\n",
      "Epoch 38/100\n",
      "9/9 [==============================] - 0s 12ms/step - loss: 0.1434 - accuracy: 0.9507 - val_loss: 0.1849 - val_accuracy: 0.9474\n",
      "Epoch 39/100\n",
      "9/9 [==============================] - 0s 12ms/step - loss: 0.1411 - accuracy: 0.9507 - val_loss: 0.1824 - val_accuracy: 0.9509\n",
      "Epoch 40/100\n",
      "9/9 [==============================] - 0s 12ms/step - loss: 0.1391 - accuracy: 0.9507 - val_loss: 0.1802 - val_accuracy: 0.9509\n",
      "Epoch 41/100\n",
      "9/9 [==============================] - 0s 12ms/step - loss: 0.1370 - accuracy: 0.9507 - val_loss: 0.1778 - val_accuracy: 0.9509\n",
      "Epoch 42/100\n",
      "9/9 [==============================] - 0s 12ms/step - loss: 0.1350 - accuracy: 0.9507 - val_loss: 0.1755 - val_accuracy: 0.9509\n",
      "Epoch 43/100\n",
      "9/9 [==============================] - 0s 12ms/step - loss: 0.1331 - accuracy: 0.9507 - val_loss: 0.1733 - val_accuracy: 0.9509\n",
      "Epoch 44/100\n",
      "9/9 [==============================] - 0s 12ms/step - loss: 0.1313 - accuracy: 0.9507 - val_loss: 0.1712 - val_accuracy: 0.9509\n",
      "Epoch 45/100\n",
      "9/9 [==============================] - 0s 12ms/step - loss: 0.1295 - accuracy: 0.9507 - val_loss: 0.1691 - val_accuracy: 0.9509\n",
      "Epoch 46/100\n",
      "9/9 [==============================] - 0s 12ms/step - loss: 0.1277 - accuracy: 0.9507 - val_loss: 0.1671 - val_accuracy: 0.9509\n",
      "Epoch 47/100\n",
      "9/9 [==============================] - 0s 12ms/step - loss: 0.1261 - accuracy: 0.9542 - val_loss: 0.1653 - val_accuracy: 0.9509\n",
      "Epoch 48/100\n",
      "9/9 [==============================] - 0s 12ms/step - loss: 0.1245 - accuracy: 0.9542 - val_loss: 0.1634 - val_accuracy: 0.9509\n",
      "Epoch 49/100\n",
      "9/9 [==============================] - 0s 12ms/step - loss: 0.1229 - accuracy: 0.9542 - val_loss: 0.1617 - val_accuracy: 0.9509\n",
      "Epoch 50/100\n",
      "9/9 [==============================] - 0s 12ms/step - loss: 0.1214 - accuracy: 0.9577 - val_loss: 0.1602 - val_accuracy: 0.9509\n",
      "Epoch 51/100\n",
      "9/9 [==============================] - 0s 12ms/step - loss: 0.1200 - accuracy: 0.9577 - val_loss: 0.1585 - val_accuracy: 0.9509\n",
      "Epoch 52/100\n",
      "9/9 [==============================] - 0s 12ms/step - loss: 0.1185 - accuracy: 0.9577 - val_loss: 0.1569 - val_accuracy: 0.9509\n",
      "Epoch 53/100\n",
      "9/9 [==============================] - 0s 11ms/step - loss: 0.1171 - accuracy: 0.9577 - val_loss: 0.1554 - val_accuracy: 0.9509\n",
      "Epoch 54/100\n",
      "9/9 [==============================] - 0s 12ms/step - loss: 0.1158 - accuracy: 0.9577 - val_loss: 0.1539 - val_accuracy: 0.9509\n",
      "Epoch 55/100\n",
      "9/9 [==============================] - 0s 12ms/step - loss: 0.1145 - accuracy: 0.9577 - val_loss: 0.1525 - val_accuracy: 0.9509\n",
      "Epoch 56/100\n",
      "9/9 [==============================] - 0s 12ms/step - loss: 0.1132 - accuracy: 0.9613 - val_loss: 0.1510 - val_accuracy: 0.9509\n",
      "Epoch 57/100\n",
      "9/9 [==============================] - 0s 12ms/step - loss: 0.1119 - accuracy: 0.9613 - val_loss: 0.1497 - val_accuracy: 0.9509\n",
      "Epoch 58/100\n",
      "9/9 [==============================] - 0s 12ms/step - loss: 0.1107 - accuracy: 0.9613 - val_loss: 0.1485 - val_accuracy: 0.9509\n",
      "Epoch 59/100\n",
      "9/9 [==============================] - 0s 12ms/step - loss: 0.1096 - accuracy: 0.9613 - val_loss: 0.1472 - val_accuracy: 0.9544\n",
      "Epoch 60/100\n",
      "9/9 [==============================] - 0s 12ms/step - loss: 0.1085 - accuracy: 0.9613 - val_loss: 0.1459 - val_accuracy: 0.9544\n",
      "Epoch 61/100\n",
      "9/9 [==============================] - 0s 12ms/step - loss: 0.1073 - accuracy: 0.9648 - val_loss: 0.1448 - val_accuracy: 0.9544\n",
      "Epoch 62/100\n",
      "9/9 [==============================] - 0s 12ms/step - loss: 0.1063 - accuracy: 0.9648 - val_loss: 0.1436 - val_accuracy: 0.9544\n",
      "Epoch 63/100\n",
      "9/9 [==============================] - 0s 12ms/step - loss: 0.1052 - accuracy: 0.9648 - val_loss: 0.1425 - val_accuracy: 0.9579\n",
      "Epoch 64/100\n",
      "9/9 [==============================] - 0s 13ms/step - loss: 0.1041 - accuracy: 0.9683 - val_loss: 0.1415 - val_accuracy: 0.9579\n",
      "Epoch 65/100\n",
      "9/9 [==============================] - 0s 12ms/step - loss: 0.1031 - accuracy: 0.9683 - val_loss: 0.1404 - val_accuracy: 0.9614\n",
      "Epoch 66/100\n",
      "9/9 [==============================] - 0s 12ms/step - loss: 0.1022 - accuracy: 0.9683 - val_loss: 0.1395 - val_accuracy: 0.9614\n",
      "Epoch 67/100\n",
      "9/9 [==============================] - 0s 12ms/step - loss: 0.1012 - accuracy: 0.9683 - val_loss: 0.1384 - val_accuracy: 0.9614\n",
      "Epoch 68/100\n",
      "9/9 [==============================] - 0s 12ms/step - loss: 0.1003 - accuracy: 0.9683 - val_loss: 0.1375 - val_accuracy: 0.9614\n",
      "Epoch 69/100\n",
      "9/9 [==============================] - 0s 12ms/step - loss: 0.0993 - accuracy: 0.9683 - val_loss: 0.1366 - val_accuracy: 0.9614\n",
      "Epoch 70/100\n",
      "9/9 [==============================] - 0s 12ms/step - loss: 0.0985 - accuracy: 0.9683 - val_loss: 0.1357 - val_accuracy: 0.9614\n",
      "Epoch 71/100\n",
      "9/9 [==============================] - 0s 12ms/step - loss: 0.0976 - accuracy: 0.9718 - val_loss: 0.1349 - val_accuracy: 0.9614\n",
      "Epoch 72/100\n",
      "9/9 [==============================] - 0s 12ms/step - loss: 0.0968 - accuracy: 0.9718 - val_loss: 0.1340 - val_accuracy: 0.9614\n",
      "Epoch 73/100\n",
      "9/9 [==============================] - 0s 12ms/step - loss: 0.0959 - accuracy: 0.9718 - val_loss: 0.1332 - val_accuracy: 0.9614\n",
      "Epoch 74/100\n",
      "9/9 [==============================] - 0s 12ms/step - loss: 0.0951 - accuracy: 0.9718 - val_loss: 0.1324 - val_accuracy: 0.9614\n",
      "Epoch 75/100\n",
      "9/9 [==============================] - 0s 12ms/step - loss: 0.0943 - accuracy: 0.9718 - val_loss: 0.1316 - val_accuracy: 0.9614\n",
      "Epoch 76/100\n",
      "9/9 [==============================] - 0s 12ms/step - loss: 0.0935 - accuracy: 0.9718 - val_loss: 0.1309 - val_accuracy: 0.9614\n",
      "Epoch 77/100\n",
      "9/9 [==============================] - 0s 12ms/step - loss: 0.0928 - accuracy: 0.9718 - val_loss: 0.1301 - val_accuracy: 0.9614\n",
      "Epoch 78/100\n",
      "9/9 [==============================] - 0s 12ms/step - loss: 0.0920 - accuracy: 0.9718 - val_loss: 0.1294 - val_accuracy: 0.9614\n",
      "Epoch 79/100\n",
      "9/9 [==============================] - 0s 12ms/step - loss: 0.0913 - accuracy: 0.9718 - val_loss: 0.1288 - val_accuracy: 0.9614\n",
      "Epoch 80/100\n",
      "9/9 [==============================] - 0s 12ms/step - loss: 0.0905 - accuracy: 0.9718 - val_loss: 0.1282 - val_accuracy: 0.9614\n",
      "Epoch 81/100\n",
      "9/9 [==============================] - 0s 12ms/step - loss: 0.0898 - accuracy: 0.9718 - val_loss: 0.1276 - val_accuracy: 0.9614\n",
      "Epoch 82/100\n",
      "9/9 [==============================] - 0s 12ms/step - loss: 0.0892 - accuracy: 0.9718 - val_loss: 0.1269 - val_accuracy: 0.9614\n",
      "Epoch 83/100\n",
      "9/9 [==============================] - 0s 13ms/step - loss: 0.0885 - accuracy: 0.9718 - val_loss: 0.1263 - val_accuracy: 0.9649\n",
      "Epoch 84/100\n",
      "9/9 [==============================] - 0s 12ms/step - loss: 0.0878 - accuracy: 0.9718 - val_loss: 0.1257 - val_accuracy: 0.9649\n",
      "Epoch 85/100\n",
      "9/9 [==============================] - 0s 12ms/step - loss: 0.0871 - accuracy: 0.9718 - val_loss: 0.1251 - val_accuracy: 0.9649\n",
      "Epoch 86/100\n",
      "9/9 [==============================] - 0s 12ms/step - loss: 0.0865 - accuracy: 0.9718 - val_loss: 0.1246 - val_accuracy: 0.9649\n",
      "Epoch 87/100\n",
      "9/9 [==============================] - 0s 12ms/step - loss: 0.0859 - accuracy: 0.9718 - val_loss: 0.1240 - val_accuracy: 0.9649\n",
      "Epoch 88/100\n",
      "9/9 [==============================] - 0s 12ms/step - loss: 0.0852 - accuracy: 0.9718 - val_loss: 0.1235 - val_accuracy: 0.9649\n",
      "Epoch 89/100\n",
      "9/9 [==============================] - 0s 12ms/step - loss: 0.0847 - accuracy: 0.9718 - val_loss: 0.1230 - val_accuracy: 0.9649\n",
      "Epoch 90/100\n",
      "9/9 [==============================] - 0s 12ms/step - loss: 0.0841 - accuracy: 0.9718 - val_loss: 0.1225 - val_accuracy: 0.9649\n",
      "Epoch 91/100\n",
      "9/9 [==============================] - 0s 12ms/step - loss: 0.0835 - accuracy: 0.9718 - val_loss: 0.1220 - val_accuracy: 0.9649\n",
      "Epoch 92/100\n",
      "9/9 [==============================] - 0s 12ms/step - loss: 0.0829 - accuracy: 0.9718 - val_loss: 0.1216 - val_accuracy: 0.9649\n",
      "Epoch 93/100\n",
      "9/9 [==============================] - 0s 12ms/step - loss: 0.0823 - accuracy: 0.9718 - val_loss: 0.1211 - val_accuracy: 0.9649\n",
      "Epoch 94/100\n",
      "9/9 [==============================] - 0s 12ms/step - loss: 0.0818 - accuracy: 0.9718 - val_loss: 0.1206 - val_accuracy: 0.9649\n",
      "Epoch 95/100\n",
      "9/9 [==============================] - 0s 12ms/step - loss: 0.0812 - accuracy: 0.9718 - val_loss: 0.1202 - val_accuracy: 0.9649\n",
      "Epoch 96/100\n",
      "9/9 [==============================] - 0s 12ms/step - loss: 0.0807 - accuracy: 0.9718 - val_loss: 0.1198 - val_accuracy: 0.9649\n",
      "Epoch 97/100\n",
      "9/9 [==============================] - 0s 12ms/step - loss: 0.0802 - accuracy: 0.9718 - val_loss: 0.1194 - val_accuracy: 0.9649\n",
      "Epoch 98/100\n",
      "9/9 [==============================] - 0s 12ms/step - loss: 0.0797 - accuracy: 0.9718 - val_loss: 0.1190 - val_accuracy: 0.9649\n",
      "Epoch 99/100\n",
      "9/9 [==============================] - 0s 12ms/step - loss: 0.0791 - accuracy: 0.9718 - val_loss: 0.1186 - val_accuracy: 0.9649\n",
      "Epoch 100/100\n",
      "9/9 [==============================] - 0s 12ms/step - loss: 0.0786 - accuracy: 0.9718 - val_loss: 0.1182 - val_accuracy: 0.9649\n"
     ]
    }
   ],
   "source": [
    "r = model.fit (X_train, Y_train, validation_data = (X_test, Y_test), epochs = 100)"
   ]
  },
  {
   "cell_type": "code",
   "execution_count": 17,
   "id": "0bc6d14c",
   "metadata": {},
   "outputs": [
    {
     "name": "stdout",
     "output_type": "stream",
     "text": [
      "9/9 [==============================] - 0s 3ms/step - loss: 0.0783 - accuracy: 0.9718\n",
      "Train score:  [0.0783296674489975, 0.9718309640884399]\n",
      "9/9 [==============================] - 0s 3ms/step - loss: 0.1182 - accuracy: 0.9649\n",
      "Test score:  [0.11817614734172821, 0.9649122953414917]\n"
     ]
    }
   ],
   "source": [
    "print (\"Train score: \", model.evaluate(X_train, Y_train))\n",
    "print (\"Test score: \", model.evaluate(X_test, Y_test))"
   ]
  },
  {
   "cell_type": "code",
   "execution_count": 18,
   "id": "6546825d",
   "metadata": {},
   "outputs": [
    {
     "data": {
      "image/png": "[encoded data removed]",
      "text/plain": [
       "<Figure size 432x288 with 1 Axes>"
      ]
     },
     "metadata": {
      "needs_background": "light"
     },
     "output_type": "display_data"
    }
   ],
   "source": [
    "# Plot the loss\n",
    "import matplotlib.pyplot as plt\n",
    "\n",
    "plt.plot(r.history['loss'], label='loss')\n",
    "plt.plot(r.history['val_loss'], label='val_loss')\n",
    "plt.legend();"
   ]
  },
  {
   "cell_type": "code",
   "execution_count": 19,
   "id": "3000a803",
   "metadata": {},
   "outputs": [
    {
     "data": {
      "image/png": "[encoded data removed]",
      "text/plain": [
       "<Figure size 432x288 with 1 Axes>"
      ]
     },
     "metadata": {
      "needs_background": "light"
     },
     "output_type": "display_data"
    }
   ],
   "source": [
    "# Plot the accuracy\n",
    "plt.plot(r.history['accuracy'], label = 'accuracy')\n",
    "plt.plot(r.history['val_accuracy'], label = 'val_accuracy')\n",
    "plt.legend();"
   ]
  },
  {
   "cell_type": "markdown",
   "id": "3c7660c6",
   "metadata": {},
   "source": [
    "# Making predictions"
   ]
  },
  {
   "cell_type": "code",
   "execution_count": 21,
   "id": "c7d8606b",
   "metadata": {},
   "outputs": [
    {
     "name": "stdout",
     "output_type": "stream",
     "text": [
      "9/9 [==============================] - 0s 2ms/step\n"
     ]
    },
    {
     "data": {
      "text/plain": [
       "array([[9.9893504e-01],\n",
       "       [6.1077453e-02],\n",
       "       [2.5419553e-05],\n",
       "       [9.7058868e-01],\n",
       "       [8.1688231e-01],\n",
       "       [9.8570573e-01],\n",
       "       [1.2191823e-07],\n",
       "       [9.9924463e-01],\n",
       "       [8.8478379e-02],\n",
       "       [9.7461319e-01],\n",
       "       [4.7583867e-06],\n",
       "       [9.9229676e-01],\n",
       "       [4.7100794e-09],\n",
       "       [9.9951112e-01],\n",
       "       [9.3923098e-01],\n",
       "       [7.8012613e-07],\n",
       "       [1.6055612e-02],\n",
       "       [1.5871737e-02],\n",
       "       [9.9981517e-01],\n",
       "       [9.9608111e-01],\n",
       "       [3.0245665e-01],\n",
       "       [2.1065619e-04],\n",
       "       [1.0626157e-01],\n",
       "       [9.6471542e-03],\n",
       "       [7.2535312e-01],\n",
       "       [7.6198685e-03],\n",
       "       [7.3840117e-01],\n",
       "       [1.0683173e-04],\n",
       "       [9.5913309e-01],\n",
       "       [9.9021250e-01],\n",
       "       [6.9054222e-01],\n",
       "       [9.0356070e-01],\n",
       "       [1.6945646e-03],\n",
       "       [9.8332673e-01],\n",
       "       [2.8007983e-07],\n",
       "       [8.8265675e-01],\n",
       "       [9.9882203e-01],\n",
       "       [9.9573267e-01],\n",
       "       [8.4436148e-01],\n",
       "       [1.4242511e-03],\n",
       "       [3.4011737e-03],\n",
       "       [1.9493082e-05],\n",
       "       [6.9954199e-01],\n",
       "       [9.2729139e-01],\n",
       "       [7.3841101e-01],\n",
       "       [9.3703687e-01],\n",
       "       [9.9960285e-01],\n",
       "       [9.3494117e-01],\n",
       "       [8.8157451e-01],\n",
       "       [5.3405799e-02],\n",
       "       [1.0114683e-06],\n",
       "       [9.9987781e-01],\n",
       "       [9.1709095e-01],\n",
       "       [7.8717476e-01],\n",
       "       [9.9237496e-01],\n",
       "       [9.8372090e-01],\n",
       "       [9.9771810e-01],\n",
       "       [9.9831164e-01],\n",
       "       [9.3313062e-01],\n",
       "       [4.8400003e-01],\n",
       "       [9.8635894e-01],\n",
       "       [4.4940407e-03],\n",
       "       [3.3347320e-02],\n",
       "       [2.8316973e-04],\n",
       "       [9.8920852e-01],\n",
       "       [2.1181012e-02],\n",
       "       [5.8847600e-01],\n",
       "       [7.4997661e-03],\n",
       "       [9.9555057e-01],\n",
       "       [9.9691266e-01],\n",
       "       [9.9811220e-01],\n",
       "       [6.7278945e-01],\n",
       "       [9.7237855e-01],\n",
       "       [9.9716461e-01],\n",
       "       [9.9775368e-01],\n",
       "       [9.9695659e-01],\n",
       "       [9.6275860e-01],\n",
       "       [9.9931639e-01],\n",
       "       [1.2985042e-01],\n",
       "       [9.9364334e-01],\n",
       "       [9.8905301e-01],\n",
       "       [9.9584109e-01],\n",
       "       [1.4045896e-03],\n",
       "       [9.9345809e-01],\n",
       "       [4.9863808e-04],\n",
       "       [9.9608576e-01],\n",
       "       [9.9910522e-01],\n",
       "       [7.0159054e-01],\n",
       "       [2.2912348e-02],\n",
       "       [7.1997151e-02],\n",
       "       [6.2037003e-01],\n",
       "       [8.3056474e-01],\n",
       "       [2.3377403e-03],\n",
       "       [8.8714963e-01],\n",
       "       [6.4947105e-09],\n",
       "       [4.5747033e-08],\n",
       "       [6.5284431e-02],\n",
       "       [9.9904263e-01],\n",
       "       [2.5484969e-03],\n",
       "       [9.4642901e-01],\n",
       "       [3.4164552e-06],\n",
       "       [1.7214826e-01],\n",
       "       [9.9811876e-01],\n",
       "       [9.9926788e-01],\n",
       "       [9.6816903e-01],\n",
       "       [5.4354435e-03],\n",
       "       [9.8829502e-01],\n",
       "       [9.9886346e-01],\n",
       "       [3.9640555e-01],\n",
       "       [9.9651349e-01],\n",
       "       [2.6426531e-04],\n",
       "       [9.9890304e-01],\n",
       "       [9.9673849e-01],\n",
       "       [9.5912606e-01],\n",
       "       [2.5796067e-05],\n",
       "       [2.8476680e-03],\n",
       "       [5.9806156e-01],\n",
       "       [9.9084771e-01],\n",
       "       [3.3319357e-03],\n",
       "       [9.3570763e-01],\n",
       "       [7.4263563e-04],\n",
       "       [9.8969167e-01],\n",
       "       [9.9986023e-01],\n",
       "       [9.9100107e-01],\n",
       "       [1.4914727e-01],\n",
       "       [9.9083543e-01],\n",
       "       [9.9506235e-01],\n",
       "       [9.7891259e-01],\n",
       "       [3.9210538e-03],\n",
       "       [4.4749878e-02],\n",
       "       [9.9916953e-01],\n",
       "       [6.6735345e-01],\n",
       "       [9.9875659e-01],\n",
       "       [9.9642360e-01],\n",
       "       [9.8498148e-01],\n",
       "       [9.9909961e-01],\n",
       "       [9.3001151e-01],\n",
       "       [9.9746430e-01],\n",
       "       [9.9891937e-01],\n",
       "       [2.0516723e-02],\n",
       "       [8.6043203e-01],\n",
       "       [6.6778087e-04],\n",
       "       [4.3258769e-03],\n",
       "       [9.9285781e-01],\n",
       "       [9.5756954e-01],\n",
       "       [9.9938524e-01],\n",
       "       [9.7196496e-01],\n",
       "       [9.9904239e-01],\n",
       "       [7.3261980e-08],\n",
       "       [3.2097706e-01],\n",
       "       [9.9730057e-01],\n",
       "       [1.3554229e-01],\n",
       "       [7.8188276e-01],\n",
       "       [8.9565498e-01],\n",
       "       [1.4108178e-04],\n",
       "       [9.9804175e-01],\n",
       "       [9.1953200e-01],\n",
       "       [9.9993783e-01],\n",
       "       [9.9755973e-01],\n",
       "       [9.5111972e-01],\n",
       "       [4.0128657e-01],\n",
       "       [9.7911704e-01],\n",
       "       [9.9939573e-01],\n",
       "       [9.9132365e-01],\n",
       "       [9.7144938e-01],\n",
       "       [9.7945929e-01],\n",
       "       [9.7906256e-01],\n",
       "       [9.6659201e-01],\n",
       "       [8.7698418e-01],\n",
       "       [9.5917904e-01],\n",
       "       [7.3198164e-01],\n",
       "       [1.0587954e-03],\n",
       "       [8.7352544e-01],\n",
       "       [2.6776960e-01],\n",
       "       [1.8997056e-02],\n",
       "       [9.9644172e-01],\n",
       "       [9.8732710e-01],\n",
       "       [1.5866547e-03],\n",
       "       [9.5559728e-01],\n",
       "       [1.8845350e-01],\n",
       "       [9.1811806e-01],\n",
       "       [9.7851968e-01],\n",
       "       [9.7576433e-01],\n",
       "       [6.9788015e-01],\n",
       "       [9.4561517e-01],\n",
       "       [5.8382925e-06],\n",
       "       [9.2809778e-01],\n",
       "       [1.3120989e-03],\n",
       "       [9.9827081e-01],\n",
       "       [1.3852619e-01],\n",
       "       [4.4839224e-05],\n",
       "       [4.9211001e-03],\n",
       "       [6.6134810e-01],\n",
       "       [9.8752066e-02],\n",
       "       [1.2448790e-05],\n",
       "       [9.6684277e-01],\n",
       "       [2.2158562e-03],\n",
       "       [9.9443364e-01],\n",
       "       [9.7711825e-01],\n",
       "       [9.9896246e-01],\n",
       "       [9.8473513e-01],\n",
       "       [2.7139150e-02],\n",
       "       [9.8739105e-01],\n",
       "       [9.8410875e-01],\n",
       "       [9.7800410e-01],\n",
       "       [2.2852400e-01],\n",
       "       [9.8064476e-01],\n",
       "       [8.5627465e-03],\n",
       "       [9.9415684e-01],\n",
       "       [9.9379748e-01],\n",
       "       [9.9892741e-01],\n",
       "       [4.4545785e-02],\n",
       "       [7.0335513e-01],\n",
       "       [9.1807765e-01],\n",
       "       [1.7711774e-05],\n",
       "       [9.9140429e-01],\n",
       "       [9.6166086e-01],\n",
       "       [2.6776048e-05],\n",
       "       [1.6096147e-03],\n",
       "       [1.7682562e-06],\n",
       "       [1.7170021e-03],\n",
       "       [9.9303889e-01],\n",
       "       [4.7366035e-01],\n",
       "       [5.8509105e-01],\n",
       "       [1.5165297e-04],\n",
       "       [2.7849022e-01],\n",
       "       [1.1180871e-03],\n",
       "       [9.2770708e-01],\n",
       "       [9.9966925e-01],\n",
       "       [3.2670802e-01],\n",
       "       [9.9280787e-01],\n",
       "       [9.9924362e-01],\n",
       "       [9.8921907e-01],\n",
       "       [9.9996144e-01],\n",
       "       [7.9951680e-01],\n",
       "       [9.1370666e-01],\n",
       "       [3.3979389e-01],\n",
       "       [9.9808359e-01],\n",
       "       [6.3548461e-02],\n",
       "       [7.1525902e-01],\n",
       "       [5.7750845e-01],\n",
       "       [8.0627970e-02],\n",
       "       [9.9225330e-01],\n",
       "       [1.8449727e-03],\n",
       "       [9.8713338e-01],\n",
       "       [9.7881037e-01],\n",
       "       [9.0774661e-01],\n",
       "       [9.7535086e-01],\n",
       "       [9.8888618e-01],\n",
       "       [9.9702853e-01],\n",
       "       [9.9934083e-01],\n",
       "       [3.3027567e-03],\n",
       "       [9.7470295e-01],\n",
       "       [9.9431586e-01],\n",
       "       [4.0876144e-01],\n",
       "       [9.7835952e-01],\n",
       "       [9.7421058e-02],\n",
       "       [2.8987993e-02],\n",
       "       [9.9262738e-01],\n",
       "       [9.1732031e-01],\n",
       "       [9.9959660e-01],\n",
       "       [9.4736040e-01],\n",
       "       [9.6360421e-01],\n",
       "       [4.7876129e-16],\n",
       "       [9.9693853e-01],\n",
       "       [9.9995822e-01],\n",
       "       [7.5645071e-01],\n",
       "       [5.0431211e-04],\n",
       "       [9.9798650e-01],\n",
       "       [9.9860990e-01],\n",
       "       [1.5499911e-12],\n",
       "       [9.7841108e-01],\n",
       "       [9.9817806e-01],\n",
       "       [9.8565251e-01],\n",
       "       [9.6310693e-01],\n",
       "       [5.5238366e-02],\n",
       "       [2.4901304e-01],\n",
       "       [9.9085534e-01],\n",
       "       [2.9621301e-08],\n",
       "       [4.8746278e-05],\n",
       "       [7.8734094e-03],\n",
       "       [7.6696248e-05],\n",
       "       [9.8003125e-01],\n",
       "       [9.9979734e-01],\n",
       "       [7.2887772e-01]], dtype=float32)"
      ]
     },
     "execution_count": 21,
     "metadata": {},
     "output_type": "execute_result"
    }
   ],
   "source": [
    "P = model.predict(X_test)\n",
    "P\n",
    "# They are outputs of the sigmoid interpreted as as probabilities p(y = 1 | x)"
   ]
  },
  {
   "cell_type": "code",
   "execution_count": 22,
   "id": "69e5fdd4",
   "metadata": {},
   "outputs": [
    {
     "data": {
      "text/plain": [
       "array([1., 0., 0., 1., 1., 1., 0., 1., 0., 1., 0., 1., 0., 1., 1., 0., 0.,\n",
       "       0., 1., 1., 0., 0., 0., 0., 1., 0., 1., 0., 1., 1., 1., 1., 0., 1.,\n",
       "       0., 1., 1., 1., 1., 0., 0., 0., 1., 1., 1., 1., 1., 1., 1., 0., 0.,\n",
       "       1., 1., 1., 1., 1., 1., 1., 1., 0., 1., 0., 0., 0., 1., 0., 1., 0.,\n",
       "       1., 1., 1., 1., 1., 1., 1., 1., 1., 1., 0., 1., 1., 1., 0., 1., 0.,\n",
       "       1., 1., 1., 0., 0., 1., 1., 0., 1., 0., 0., 0., 1., 0., 1., 0., 0.,\n",
       "       1., 1., 1., 0., 1., 1., 0., 1., 0., 1., 1., 1., 0., 0., 1., 1., 0.,\n",
       "       1., 0., 1., 1., 1., 0., 1., 1., 1., 0., 0., 1., 1., 1., 1., 1., 1.,\n",
       "       1., 1., 1., 0., 1., 0., 0., 1., 1., 1., 1., 1., 0., 0., 1., 0., 1.,\n",
       "       1., 0., 1., 1., 1., 1., 1., 0., 1., 1., 1., 1., 1., 1., 1., 1., 1.,\n",
       "       1., 0., 1., 0., 0., 1., 1., 0., 1., 0., 1., 1., 1., 1., 1., 0., 1.,\n",
       "       0., 1., 0., 0., 0., 1., 0., 0., 1., 0., 1., 1., 1., 1., 0., 1., 1.,\n",
       "       1., 0., 1., 0., 1., 1., 1., 0., 1., 1., 0., 1., 1., 0., 0., 0., 0.,\n",
       "       1., 0., 1., 0., 0., 0., 1., 1., 0., 1., 1., 1., 1., 1., 1., 0., 1.,\n",
       "       0., 1., 1., 0., 1., 0., 1., 1., 1., 1., 1., 1., 1., 0., 1., 1., 0.,\n",
       "       1., 0., 0., 1., 1., 1., 1., 1., 0., 1., 1., 1., 0., 1., 1., 0., 1.,\n",
       "       1., 1., 1., 0., 0., 1., 0., 0., 0., 0., 1., 1., 1.], dtype=float32)"
      ]
     },
     "execution_count": 22,
     "metadata": {},
     "output_type": "execute_result"
    }
   ],
   "source": [
    "# Round-off the values to get actual predictions\n",
    "# Note: This has to be flattened as the targets are of size (N,), while predictions are of size (N,1)\n",
    "\n",
    "import numpy as np\n",
    "P = np.round(P).flatten()\n",
    "P"
   ]
  },
  {
   "cell_type": "code",
   "execution_count": 23,
   "id": "2c0e4bfd",
   "metadata": {},
   "outputs": [
    {
     "name": "stdout",
     "output_type": "stream",
     "text": [
      "Manually computed accuracy:  0.9649122807017544\n",
      "9/9 [==============================] - 0s 3ms/step - loss: 0.1182 - accuracy: 0.9649\n",
      "Evaluate output:  [0.11817614734172821, 0.9649122953414917]\n"
     ]
    }
   ],
   "source": [
    "# Claculate the accuracy, compare it with evaluate() output\n",
    "print(\"Manually computed accuracy: \", np.mean(P == Y_test))\n",
    "print(\"Evaluate output: \", model.evaluate(X_test, Y_test))"
   ]
  },
  {
   "cell_type": "code",
   "execution_count": null,
   "id": "35aa16b9",
   "metadata": {},
   "outputs": [],
   "source": []
  }
 ],
 "metadata": {
  "kernelspec": {
   "display_name": "Python 3 (ipykernel)",
   "language": "python",
   "name": "python3"
  },
  "language_info": {
   "codemirror_mode": {
    "name": "ipython",
    "version": 3
   },
   "file_extension": ".py",
   "mimetype": "text/x-python",
   "name": "python",
   "nbconvert_exporter": "python",
   "pygments_lexer": "ipython3",
   "version": "3.9.12"
  }
 },
 "nbformat": 4,
 "nbformat_minor": 5
}
